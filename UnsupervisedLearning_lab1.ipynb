{
 "cells": [
  {
   "cell_type": "code",
   "execution_count": 1,
   "id": "37971a63-b3ff-4232-ae75-f0eab6c33dff",
   "metadata": {
    "tags": []
   },
   "outputs": [],
   "source": [
    "import csv\n",
    "import ipywidgets as widgets\n",
    "import datetime\n",
    "import os\n",
    "import re \n",
    "import pandas as pd\n"
   ]
  },
  {
   "cell_type": "code",
   "execution_count": 2,
   "id": "0e24202f-2bac-4587-8319-c4f838dc6234",
   "metadata": {
    "tags": []
   },
   "outputs": [
    {
     "name": "stdout",
     "output_type": "stream",
     "text": [
      "Saved sheet '1,17' to 'Внутричерепное давление.csv'\n",
      "Saved sheet '2,18' to 'Диурез.csv'\n",
      "Saved sheet '3,19' to 'Напряжение кислорода (PO2).csv'\n",
      "Saved sheet '4,20' to 'Напряжение углекислого газа (PCO2).csv'\n",
      "Saved sheet '5,21' to 'Концентрация СО2 в выдыхаемом воздухе (EtCO2).csv'\n",
      "Saved sheet '6,22' to 'Минутная вентиляция (Ve).csv'\n",
      "Saved sheet '7,23' to 'Пульс (PS).csv'\n",
      "Saved sheet '8,24' to 'Тромбоциты (tr).csv'\n",
      "Saved sheet '9,25' to 'Гематокрит (ht).csv'\n",
      "Saved sheet '10,26' to 'Глюкоза (gl).csv'\n",
      "Saved sheet '11,27' to 'Диурез.csv'\n",
      "Saved sheet '12,28' to 'Пульс (PS).csv'\n",
      "Saved sheet '13,29' to 'Гематокрит (ht).csv'\n",
      "Saved sheet '14,30' to 'Глюкоза (gl).csv'\n",
      "Saved sheet '15' to 'Калий (K).csv'\n",
      "Saved sheet '16' to 'Тромбоциты (tr).csv'\n"
     ]
    }
   ],
   "source": [
    "import pandas as pd\n",
    "\n",
    "def sanitize_filename(filename):\n",
    "    invalid_chars = ['<', '>', ':', '\"', '/', '\\\\', '|', '?', '*']\n",
    "    for char in invalid_chars:\n",
    "        filename = filename.replace(char, '_')\n",
    "    return filename\n",
    "\n",
    "book = pd.ExcelFile('Copy of data_lab1.xlsx')\n",
    "\n",
    "for sheet_name in book.sheet_names:\n",
    "    df = pd.read_excel(book, sheet_name=sheet_name, header=None)\n",
    "    \n",
    "    first_cell_value = str(df.iloc[0, 0])\n",
    "    \n",
    "    sanitized_name = sanitize_filename(first_cell_value)\n",
    "    csv_file_name = f\"{sanitized_name}.csv\"\n",
    "    \n",
    "    df.iloc[1:].to_csv(csv_file_name, header=True, index=False)\n",
    "    \n",
    "    print(f\"Saved sheet '{sheet_name}' to '{csv_file_name}'\")"
   ]
  },
  {
   "cell_type": "code",
   "execution_count": 3,
   "id": "1b61c487-90c1-4d4b-b9b4-c216be06fe31",
   "metadata": {
    "jupyter": {
     "source_hidden": true
    },
    "tags": []
   },
   "outputs": [
    {
     "data": {
      "application/vnd.jupyter.widget-view+json": {
       "model_id": "d03b5cf0a61a48bfb5cc40655ff76228",
       "version_major": 2,
       "version_minor": 0
      },
      "text/plain": [
       "Text(value='', description='String:', placeholder='Type something')"
      ]
     },
     "metadata": {},
     "output_type": "display_data"
    }
   ],
   "source": [
    "text1=widgets.Text(\n",
    "    value='',\n",
    "    placeholder='Type something',\n",
    "    description='String:',\n",
    "    disabled=False  ) \n",
    "\n",
    "display(text1)"
   ]
  },
  {
   "cell_type": "code",
   "execution_count": 4,
   "id": "05be29aa-2936-4eba-9602-851757950d96",
   "metadata": {
    "tags": []
   },
   "outputs": [
    {
     "name": "stdout",
     "output_type": "stream",
     "text": [
      "Actual number of files via the path D:\\Programs\\Anaconda\\lab3 : 49\n",
      "['Внутричерепное давление.csv', 'Гематокрит (ht).csv', 'Глюкоза (gl).csv', 'Диурез.csv', 'Калий (K).csv', 'Концентрация СО2 в выдыхаемом воздухе (EtCO2).csv', 'Копія _Chats_ - Anna Yatsenko.csv', 'Минутная вентиляция (Ve).csv', 'Напряжение кислорода (PO2).csv', 'Напряжение углекислого газа (PCO2).csv', 'Пульс (PS).csv', 'Тромбоциты (tr).csv']\n"
     ]
    }
   ],
   "source": [
    "path = r'D:\\Programs\\Anaconda\\lab3'\n",
    "#value=0\n",
    "#count = map(lambda x, val: val++1 if x.is_file() else continue, value)\n",
    "\n",
    "#res = count(path, value)\n",
    "\n",
    "count_files = lambda directory: sum(1 for item in os.listdir(directory) if os.path.isfile(os.path.join(directory, item)))\n",
    "res_count = count_files(path)\n",
    "print(\"Actual number of files via the path D:\\Programs\\Anaconda\\lab3 :\", res_count)\n",
    "\n",
    "\n",
    "list_files_names = []\n",
    "list_files_names.extend(os.listdir(path))\n",
    "list_files_names.sort()\n",
    "\n",
    "def has_cyrillic(text):\n",
    "    return bool(re.search('[а-яА-Я]', text))\n",
    "\n",
    "# Using lambda and filter to get the needed files\n",
    "list_needed_files = list(filter(lambda x: has_cyrillic(x), list_files_names))\n",
    "\n",
    "print(list_needed_files)"
   ]
  },
  {
   "cell_type": "code",
   "execution_count": 5,
   "id": "6c3c6ad1-31de-409a-9ff7-b644faa5a0f0",
   "metadata": {},
   "outputs": [],
   "source": [
    "for file_name in list_needed_files:\n",
    "    file_path = os.path.join(path, file_name)\n",
    "    \n",
    "    # Read the file into a DataFrame\n",
    "    df = pd.read_csv(file_path)\n",
    "\n",
    "    # Drop the first column\n",
    "    df.drop(df.columns[0], axis=1, inplace=True)\n",
    "\n",
    "    # Save the modified DataFrame back to the file\n",
    "    df.to_csv(file_path, index=False)"
   ]
  },
  {
   "cell_type": "code",
   "execution_count": null,
   "id": "2340dd86-8867-4ddb-a51d-acf6d382bcad",
   "metadata": {},
   "outputs": [],
   "source": []
  }
 ],
 "metadata": {
  "kernelspec": {
   "display_name": "Python 3 (ipykernel)",
   "language": "python",
   "name": "python3"
  },
  "language_info": {
   "codemirror_mode": {
    "name": "ipython",
    "version": 3
   },
   "file_extension": ".py",
   "mimetype": "text/x-python",
   "name": "python",
   "nbconvert_exporter": "python",
   "pygments_lexer": "ipython3",
   "version": "3.11.4"
  }
 },
 "nbformat": 4,
 "nbformat_minor": 5
}
